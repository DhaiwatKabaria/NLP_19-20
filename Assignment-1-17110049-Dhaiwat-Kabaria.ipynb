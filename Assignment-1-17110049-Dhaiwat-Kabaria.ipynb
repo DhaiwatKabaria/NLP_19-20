{
 "cells": [
  {
   "cell_type": "markdown",
   "metadata": {},
   "source": [
    "1) Compute tokens, types, and TTR (Just present/print the stats related to each. DO NOT have a statement that prints all thetokens in the pynb.)"
   ]
  },
  {
   "cell_type": "code",
   "execution_count": null,
   "metadata": {},
   "outputs": [],
   "source": [
    "#importing libraries\n",
    "import pandas as pd\n",
    "import nltk\n",
    "nltk.download('punkt')"
   ]
  },
  {
   "cell_type": "code",
   "execution_count": 2,
   "metadata": {},
   "outputs": [],
   "source": [
    "#getting the data from the csv file\n",
    "data = pd.read_csv(\"tweets-dataset.csv\")"
   ]
  },
  {
   "cell_type": "code",
   "execution_count": 3,
   "metadata": {},
   "outputs": [
    {
     "name": "stdout",
     "output_type": "stream",
     "text": [
      "Average tokens per sentence: 16.18310835610293\n"
     ]
    }
   ],
   "source": [
    "#tokenizing the sentences\n",
    "data['tokens'] = data['Sentence'].apply(lambda sentence: nltk.word_tokenize(sentence))\n",
    "data['# of tokens'] = data['tokens'].apply(lambda tokens: len(tokens))\n",
    "print('Average tokens per sentence:', data['# of tokens'].mean())"
   ]
  },
  {
   "cell_type": "code",
   "execution_count": 4,
   "metadata": {},
   "outputs": [
    {
     "name": "stdout",
     "output_type": "stream",
     "text": [
      "Average types per sentence: 14.472982341666327\n"
     ]
    }
   ],
   "source": [
    "#typing the sentences\n",
    "data['types'] = data['tokens'].apply(lambda tokens: set(tokens))\n",
    "data['# of types'] = data['types'].apply(lambda types: len(types))\n",
    "print('Average types per sentence:', data['# of types'].mean())"
   ]
  },
  {
   "cell_type": "code",
   "execution_count": 5,
   "metadata": {},
   "outputs": [
    {
     "name": "stdout",
     "output_type": "stream",
     "text": [
      "Average ttr: 0.9160242604696253\n"
     ]
    }
   ],
   "source": [
    "#getting ttr for each sentence\n",
    "data['ttr'] = data['# of types']/data['# of tokens']\n",
    "print('Average ttr:', data['ttr'].mean())"
   ]
  },
  {
   "cell_type": "code",
   "execution_count": 7,
   "metadata": {},
   "outputs": [
    {
     "name": "stdout",
     "output_type": "stream",
     "text": [
      "total number of tokens: 306984\n"
     ]
    }
   ],
   "source": [
    "#removing symbols and counting tokens for the entire file\n",
    "import re\n",
    "Tokens_list = []\n",
    "tokens_list = [item for sublist in data['tokens'].tolist() for item in sublist]\n",
    "regex = re.compile(r'\\W+')\n",
    "for i in tokens_list:\n",
    "    Tokens_list.append(i.lower())\n",
    "Tokens = [i for i in Tokens_list if not regex.search(i)]\n",
    "print('total number of tokens:', len(Tokens))"
   ]
  },
  {
   "cell_type": "code",
   "execution_count": 8,
   "metadata": {},
   "outputs": [
    {
     "name": "stdout",
     "output_type": "stream",
     "text": [
      "total number of types: 36438\n"
     ]
    }
   ],
   "source": [
    "#getting types\n",
    "types = set(Tokens)\n",
    "print('total number of types:', len(types))"
   ]
  },
  {
   "cell_type": "code",
   "execution_count": 9,
   "metadata": {},
   "outputs": [
    {
     "name": "stdout",
     "output_type": "stream",
     "text": [
      "TTR =  0.09182362042809696\n"
     ]
    }
   ],
   "source": [
    "#calculating TTR\n",
    "ttr = len(types)/len(tokens_list)\n",
    "print('TTR = ', ttr)"
   ]
  },
  {
   "cell_type": "code",
   "execution_count": 10,
   "metadata": {},
   "outputs": [
    {
     "name": "stdout",
     "output_type": "stream",
     "text": [
      "total number of tokens: 306984\n",
      "total number of types: 36438\n",
      "TTR =  0.09182362042809696\n"
     ]
    }
   ],
   "source": [
    "#final result printing\n",
    "print('total number of tokens:', len(Tokens))\n",
    "print('total number of types:', len(types))\n",
    "print('TTR = ', ttr)"
   ]
  },
  {
   "cell_type": "markdown",
   "metadata": {},
   "source": [
    "2) Check if Zipf’s Law holds true for meanings and length. (You can take some 10-20 random words (for which the meanings exists), get their meanings and work with those.)"
   ]
  },
  {
   "cell_type": "code",
   "execution_count": 12,
   "metadata": {},
   "outputs": [],
   "source": [
    "#importing Libs\n",
    "import pandas as pd\n",
    "import matplotlib.pyplot as plt\n",
    "from nltk.corpus import wordnet\n",
    "from collections import Counter"
   ]
  },
  {
   "cell_type": "code",
   "execution_count": 13,
   "metadata": {},
   "outputs": [
    {
     "name": "stderr",
     "output_type": "stream",
     "text": [
      "[nltk_data] Downloading package wordnet to\n",
      "[nltk_data]     /Users/dhaiwatkabaria/nltk_data...\n",
      "[nltk_data]   Unzipping corpora/wordnet.zip.\n"
     ]
    },
    {
     "data": {
      "text/plain": [
       "True"
      ]
     },
     "execution_count": 13,
     "metadata": {},
     "output_type": "execute_result"
    }
   ],
   "source": [
    "#downloading wordnet\n",
    "import nltk\n",
    "nltk.download('wordnet')"
   ]
  },
  {
   "cell_type": "code",
   "execution_count": 20,
   "metadata": {},
   "outputs": [],
   "source": [
    "#selecting words and getting meanings\n",
    "a=[]\n",
    "counts=Counter(Tokens)\n",
    "words=['tale','lane','teen','then','wait','can','about','new','good','going','go','better']\n",
    "data=pd.DataFrame({'Words':words})\n",
    "data['meanings']=data['Words'].apply(wordnet.synsets)\n",
    "data['number.meanings']=data['meanings'].apply(len)\n"
   ]
  },
  {
   "cell_type": "code",
   "execution_count": 21,
   "metadata": {},
   "outputs": [],
   "source": [
    "for i in words:\n",
    "    a.append(Counter(tokens_list)[i])\n",
    "data['word length']=data['Words'].apply(len)\n",
    "data['frequency']=a"
   ]
  },
  {
   "cell_type": "code",
   "execution_count": 24,
   "metadata": {},
   "outputs": [
    {
     "data": {
      "image/png": "[encoded data removed]",
      "text/plain": [
       "<Figure size 432x288 with 1 Axes>"
      ]
     },
     "metadata": {
      "needs_background": "light"
     },
     "output_type": "display_data"
    }
   ],
   "source": [
    "#ploting the graph\n",
    "plt.plot(data['number.meanings'],data['frequency'])\n",
    "plt.xlabel('Number of meanings')\n",
    "plt.ylabel('frequency')\n",
    "plt.title(\"Zipf's law\")\n",
    "plt.show()"
   ]
  },
  {
   "cell_type": "code",
   "execution_count": 25,
   "metadata": {},
   "outputs": [],
   "source": [
    "#to get the list of token frequency\n",
    "counts_dict = (pd.DataFrame.from_dict(counts, orient='index')).reset_index()\n",
    "counts_dict['word length']=counts_dict['index'].apply(len)"
   ]
  },
  {
   "cell_type": "code",
   "execution_count": 26,
   "metadata": {},
   "outputs": [
    {
     "data": {
      "image/png": "[encoded data removed]",
      "text/plain": [
       "<Figure size 432x288 with 1 Axes>"
      ]
     },
     "metadata": {
      "needs_background": "light"
     },
     "output_type": "display_data"
    }
   ],
   "source": [
    "counts_dict.plot(kind='line',x='word length',y=0,color='blue')\n",
    "plt.xlabel('word lenght')\n",
    "plt.ylabel('frequency')\n",
    "plt.show()"
   ]
  },
  {
   "cell_type": "markdown",
   "metadata": {},
   "source": [
    "3) Plot Heap’s Law."
   ]
  },
  {
   "cell_type": "code",
   "execution_count": 28,
   "metadata": {},
   "outputs": [],
   "source": [
    "#get the number of tokens in 50 units at a time\n",
    "no_types=[]\n",
    "no_tokens=[]\n",
    "for i in range(6000):\n",
    "    total_tokens = Tokens[:i*50]\n",
    "    no_tokens.append(len(total_tokens))\n",
    "    no_types.append(len(set(total_tokens)))"
   ]
  },
  {
   "cell_type": "code",
   "execution_count": 29,
   "metadata": {},
   "outputs": [
    {
     "data": {
      "image/png": "[encoded data removed]",
      "text/plain": [
       "<Figure size 432x288 with 1 Axes>"
      ]
     },
     "metadata": {
      "needs_background": "light"
     },
     "output_type": "display_data"
    }
   ],
   "source": [
    "#To plot the data\n",
    "plt.plot(no_tokens,no_types)\n",
    "plt.xlabel('Tokens (N)')\n",
    "plt.ylabel('Vocabulary |V|')\n",
    "plt.title('Heaps law')\n",
    "plt.show()"
   ]
  },
  {
   "cell_type": "code",
   "execution_count": 36,
   "metadata": {},
   "outputs": [
    {
     "data": {
      "image/png": "[encoded data removed]",
      "text/plain": [
       "<Figure size 432x288 with 1 Axes>"
      ]
     },
     "metadata": {
      "needs_background": "light"
     },
     "output_type": "display_data"
    },
    {
     "name": "stdout",
     "output_type": "stream",
     "text": [
      "K=14.358851362541303 and b=0.6211436402928001\n"
     ]
    }
   ],
   "source": [
    "#param=parameter, param_cov = parameter covarience\n",
    "V = no_types\n",
    "N = no_tokens\n",
    "\n",
    "def heap(N, K, b):\n",
    "    return K*(N**b)\n",
    "\n",
    "from scipy.optimize import curve_fit \n",
    "\n",
    "param, param_cov = curve_fit(heap, N, V) \n",
    "\n",
    "ans = (param[0]*(N**param[1])) \n",
    "  \n",
    "plt.plot(N, V, 'o', color ='red', label =\"data\") \n",
    "plt.plot(N, ans, '--', color ='blue', label =\"optimized data\") \n",
    "plt.legend() \n",
    "plt.show() \n",
    "print('K='+str(param[0])+' and '+'b='+str(param[1]))"
   ]
  },
  {
   "cell_type": "code",
   "execution_count": null,
   "metadata": {},
   "outputs": [],
   "source": []
  }
 ],
 "metadata": {
  "kernelspec": {
   "display_name": "Python 3",
   "language": "python",
   "name": "python3"
  },
  "language_info": {
   "codemirror_mode": {
    "name": "ipython",
    "version": 3
   },
   "file_extension": ".py",
   "mimetype": "text/x-python",
   "name": "python",
   "nbconvert_exporter": "python",
   "pygments_lexer": "ipython3",
   "version": "3.7.3"
  }
 },
 "nbformat": 4,
 "nbformat_minor": 2
}
